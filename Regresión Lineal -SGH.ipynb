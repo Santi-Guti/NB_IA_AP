{
 "cells": [
  {
   "cell_type": "markdown",
   "metadata": {},
   "source": [
    "# Regresión Lineal "
   ]
  },
  {
   "cell_type": "markdown",
   "metadata": {},
   "source": [
    "By Santiago Gutiérrez Hernández"
   ]
  },
  {
   "cell_type": "markdown",
   "metadata": {},
   "source": [
    "## Introducción \n",
    "\n",
    "En la modelación matemática y estadística uno de los modelos que se utiliza para explicar o predecir el comportamiento lineal entre una o varias características (variables independientes) y una variable objetivo (variable dependiente) es la regresión lineal. Es un modelo muy usado dada la simplicidad y generalización en diferentes campos de las ciencias. \n",
    "\n",
    "La regresión lineal no es mas sino una manera simplificada  de explicar la realidad, que cuenta con un soporte extenso por parte de la matemática y la estadística.\n",
    "\n",
    "\n",
    "Este ensayo busca proporcionar un conocimiento básico sobre la regresión lineal. Adicional se realizara un ejercicio con el conjunto de datos Wine Quality Data Set para su mejor entendimiento.\n",
    "\n",
    "La primera parte de este ensayo corresponde a esta introducción. En la segunda parte se realizara un breve recorrido histórico de su origen. La tercera parte corresponde al planteamiento formal del modelo de regresión lineal. La cuarta parte corresponde a la implementación del modelo con datos reales. La quinta y última parte corresponde a las conclusiones de este ensayo."
   ]
  },
  {
   "cell_type": "markdown",
   "metadata": {},
   "source": [
    "## História \n",
    "\n",
    "La primera forma de regresión lineal documentada se encuentra en un articulo publicado por Legendre en 1805. Legendre en este artículo expusó el metódo de los minimos cuadrados.\n",
    "\n",
    "Años mas tarde, Gauss publicó un trabajo donde desarrollo de manera mas profunda el metódo de los minimos cuadrados y dónde además incluía una versión del teorema de Gauss-Márkov.\n",
    "\n",
    "Hasta este punto, no se reconocia de manera explícita el termíno de regresión. El termíno de regresión se utilizó por primera vez por Francis Galton en su libro Naturalinheritance en 1889 y luego confirmado por Karl Pearson. En su trabajo, Galton se centró en explicar la estatura de los hijos a través de la estatura de sus padres.\n",
    "\n",
    "Por ultimó el termino lineal se empleó  para distinguirlo del resto de técnicas de regresión, que empleaban modelos basados en cualquier otra clase de función matemática."
   ]
  },
  {
   "cell_type": "markdown",
   "metadata": {},
   "source": [
    "## Planteamiento\n",
    "\n",
    "Dado un conjunto de datos, el algoritmo de regresión establecerá un modelo para ajustar la relación de dependencia entre una o varias caracteristicas especificas e independientes ($X$) y la variable objetivo (y).\n",
    "\n",
    "Esta relación se establecerá a través de una linea arbitraria. Entre esta linea (representación o aproximación de la realidad) y los valores correspondientes a los valores reales ($X, y$) habrá una distancia. La distancia entre la linea y los puntos, son los \"residuos\" o los \"errores de predicción\".\n",
    "\n",
    "El algoritmo de regresión lo que hace es mover esa linea buscando aquella que se ajuste mejor a los datos. En otro palabras aquella linea que minimice los errores, es decir la mas cercana al maximo numero de puntos posible.\n",
    "\n",
    "![Regresión Lineal](https://upload.wikimedia.org/wikipedia/commons/thumb/3/3a/Linear_regression.svg/800px-Linear_regression.svg.png)"
   ]
  },
  {
   "cell_type": "markdown",
   "metadata": {},
   "source": [
    "\n",
    "### Regresión Lineal Simple\n",
    "\n",
    "Un modelo de regresión lineal simple esta conformado solo por una característica ($x$) y la variable objetivo $(y)$. La definiremos de la siguiente manera:\n",
    "\n",
    "$$y=w_0 + w_1x$$\n",
    "\n",
    "donde $w_0, w_1$ son los coeficientes de la regresión.\n",
    "\n",
    "### Regresión Lineal Múltiple\n",
    "\n",
    "Un modelo de regresión lineal múltiple esta conformado por mas de una característica ($X$) y la variable objetivo $(y)$. La definiremos de la siguiente manera:\n",
    "\n",
    "$$y=w_0 + w_1x_1 + w_2x_2 + ... + w_nx_n$$\n",
    "\n",
    "donde $W$ son los coeficientes de la regresión.\n",
    "\n",
    "### Estimación de los parametros\n",
    "\n",
    "Los coeficientes de la regresión son constantes desconocidas y son los parametros a estimar del modelo. Estos parametros se pueden estimar utilizando el método de minimos cuadrados. Es decir, minimizando la función del error cuadrático medio (ECM). En forma matricial podemos definir la función ECM de la siguiente manera:\n",
    "\n",
    "$$ECM(W) = (Y-XW)^T(Y-XW)$$"
   ]
  },
  {
   "cell_type": "markdown",
   "metadata": {},
   "source": [
    "### Hipótesis\n",
    "\n",
    "Antes de seguir con el ejercicio es importante conocer algunas hipótesis para trabajar con un modelo de regresión lineal:\n",
    "\n",
    "- Los errores tienen una distribución normal.\n",
    "- La media de los errores es igual a 0.\n",
    "- La varianza de los errores es igual y constante.\n",
    "- La covarianza entre lso errores las distintas muestras es nula.\n",
    "- No existe relación lineal entre las caracteristicas (variables independientes)."
   ]
  },
  {
   "cell_type": "markdown",
   "metadata": {},
   "source": [
    "## Modelo (Calidad de los vinos)\n",
    "\n",
    "Para explicar mejor que es un modelo de regresión lineal, vamos a realizar un ejercicio utilizando al información de Wine Quality Data Set. El conjunto de datos contiene información de diferentes pruebas fisicoquímicas de muestras de vino tinto y blanco vinho verde, del norte de Portugal. El objetivo es modelar la calidad del vino a partir de las caracteristicas de sus pruebas fisicoquímicas."
   ]
  },
  {
   "cell_type": "markdown",
   "metadata": {},
   "source": [
    "Importamos algunas librerias que nos ayudaran a cargar el conjunto de datos y realizar algunos arreglos para poder trabajar con los datos:"
   ]
  },
  {
   "cell_type": "code",
   "execution_count": 50,
   "metadata": {},
   "outputs": [],
   "source": [
    "import numpy as np\n",
    "import pandas as pd\n",
    "import matplotlib.pyplot as plt"
   ]
  },
  {
   "cell_type": "markdown",
   "metadata": {},
   "source": [
    "Llamamos el conjunto de datos:"
   ]
  },
  {
   "cell_type": "code",
   "execution_count": 15,
   "metadata": {},
   "outputs": [
    {
     "data": {
      "text/html": [
       "<div>\n",
       "<style scoped>\n",
       "    .dataframe tbody tr th:only-of-type {\n",
       "        vertical-align: middle;\n",
       "    }\n",
       "\n",
       "    .dataframe tbody tr th {\n",
       "        vertical-align: top;\n",
       "    }\n",
       "\n",
       "    .dataframe thead th {\n",
       "        text-align: right;\n",
       "    }\n",
       "</style>\n",
       "<table border=\"1\" class=\"dataframe\">\n",
       "  <thead>\n",
       "    <tr style=\"text-align: right;\">\n",
       "      <th></th>\n",
       "      <th>fixed acidity</th>\n",
       "      <th>volatile acidity</th>\n",
       "      <th>citric acid</th>\n",
       "      <th>residual sugar</th>\n",
       "      <th>chlorides</th>\n",
       "      <th>free sulfur dioxide</th>\n",
       "      <th>total sulfur dioxide</th>\n",
       "      <th>density</th>\n",
       "      <th>pH</th>\n",
       "      <th>sulphates</th>\n",
       "      <th>alcohol</th>\n",
       "      <th>quality</th>\n",
       "    </tr>\n",
       "  </thead>\n",
       "  <tbody>\n",
       "    <tr>\n",
       "      <th>0</th>\n",
       "      <td>7.4</td>\n",
       "      <td>0.70</td>\n",
       "      <td>0.00</td>\n",
       "      <td>1.9</td>\n",
       "      <td>0.076</td>\n",
       "      <td>11.0</td>\n",
       "      <td>34.0</td>\n",
       "      <td>0.9978</td>\n",
       "      <td>3.51</td>\n",
       "      <td>0.56</td>\n",
       "      <td>9.4</td>\n",
       "      <td>5</td>\n",
       "    </tr>\n",
       "    <tr>\n",
       "      <th>1</th>\n",
       "      <td>7.8</td>\n",
       "      <td>0.88</td>\n",
       "      <td>0.00</td>\n",
       "      <td>2.6</td>\n",
       "      <td>0.098</td>\n",
       "      <td>25.0</td>\n",
       "      <td>67.0</td>\n",
       "      <td>0.9968</td>\n",
       "      <td>3.20</td>\n",
       "      <td>0.68</td>\n",
       "      <td>9.8</td>\n",
       "      <td>5</td>\n",
       "    </tr>\n",
       "    <tr>\n",
       "      <th>2</th>\n",
       "      <td>7.8</td>\n",
       "      <td>0.76</td>\n",
       "      <td>0.04</td>\n",
       "      <td>2.3</td>\n",
       "      <td>0.092</td>\n",
       "      <td>15.0</td>\n",
       "      <td>54.0</td>\n",
       "      <td>0.9970</td>\n",
       "      <td>3.26</td>\n",
       "      <td>0.65</td>\n",
       "      <td>9.8</td>\n",
       "      <td>5</td>\n",
       "    </tr>\n",
       "    <tr>\n",
       "      <th>3</th>\n",
       "      <td>11.2</td>\n",
       "      <td>0.28</td>\n",
       "      <td>0.56</td>\n",
       "      <td>1.9</td>\n",
       "      <td>0.075</td>\n",
       "      <td>17.0</td>\n",
       "      <td>60.0</td>\n",
       "      <td>0.9980</td>\n",
       "      <td>3.16</td>\n",
       "      <td>0.58</td>\n",
       "      <td>9.8</td>\n",
       "      <td>6</td>\n",
       "    </tr>\n",
       "    <tr>\n",
       "      <th>4</th>\n",
       "      <td>7.4</td>\n",
       "      <td>0.70</td>\n",
       "      <td>0.00</td>\n",
       "      <td>1.9</td>\n",
       "      <td>0.076</td>\n",
       "      <td>11.0</td>\n",
       "      <td>34.0</td>\n",
       "      <td>0.9978</td>\n",
       "      <td>3.51</td>\n",
       "      <td>0.56</td>\n",
       "      <td>9.4</td>\n",
       "      <td>5</td>\n",
       "    </tr>\n",
       "  </tbody>\n",
       "</table>\n",
       "</div>"
      ],
      "text/plain": [
       "   fixed acidity  volatile acidity  citric acid  residual sugar  chlorides  \\\n",
       "0            7.4              0.70         0.00             1.9      0.076   \n",
       "1            7.8              0.88         0.00             2.6      0.098   \n",
       "2            7.8              0.76         0.04             2.3      0.092   \n",
       "3           11.2              0.28         0.56             1.9      0.075   \n",
       "4            7.4              0.70         0.00             1.9      0.076   \n",
       "\n",
       "   free sulfur dioxide  total sulfur dioxide  density    pH  sulphates  \\\n",
       "0                 11.0                  34.0   0.9978  3.51       0.56   \n",
       "1                 25.0                  67.0   0.9968  3.20       0.68   \n",
       "2                 15.0                  54.0   0.9970  3.26       0.65   \n",
       "3                 17.0                  60.0   0.9980  3.16       0.58   \n",
       "4                 11.0                  34.0   0.9978  3.51       0.56   \n",
       "\n",
       "   alcohol  quality  \n",
       "0      9.4        5  \n",
       "1      9.8        5  \n",
       "2      9.8        5  \n",
       "3      9.8        6  \n",
       "4      9.4        5  "
      ]
     },
     "execution_count": 15,
     "metadata": {},
     "output_type": "execute_result"
    }
   ],
   "source": [
    "vinos = pd.read_csv(\"/Users/sgutierrezh/Downloads/winequality-red.csv\", sep = \";\")\n",
    "vinos.head()"
   ]
  },
  {
   "cell_type": "markdown",
   "metadata": {},
   "source": [
    "Para este ejercicio solo vamos a llamar la variable calidad y alcohol. El objetivo sera ver si hay una relación entre la calidad de un vino con su grado de alcohol. Se grafíca la calidad del vino contra su grado de alcohol: "
   ]
  },
  {
   "cell_type": "code",
   "execution_count": 46,
   "metadata": {},
   "outputs": [
    {
     "data": {
      "image/png": "[encoded data removed]",
      "text/plain": [
       "<Figure size 432x288 with 1 Axes>"
      ]
     },
     "metadata": {
      "needs_background": "light"
     },
     "output_type": "display_data"
    },
    {
     "name": "stdout",
     "output_type": "stream",
     "text": [
      "None\n"
     ]
    }
   ],
   "source": [
    "calidad = np.array(vinos[\"quality\"])\n",
    "alcohol = np.array(vinos[\"alcohol\"])\n",
    "\n",
    "def relation_calidad_alcohol(x, y):\n",
    "  plt.scatter(x, y, alpha=0.5)\n",
    "  plt.title(\"Calidad contra alcohol\")\n",
    "  plt.show()\n",
    "\n",
    "print(relation_calidad_alcohol(alcohol, calidad))\n",
    "\n"
   ]
  },
  {
   "cell_type": "markdown",
   "metadata": {},
   "source": [
    "Con la libreria sklearn hacemos la regresión lineal:"
   ]
  },
  {
   "cell_type": "code",
   "execution_count": 55,
   "metadata": {},
   "outputs": [
    {
     "data": {
      "image/png": "[encoded data removed]",
      "text/plain": [
       "<Figure size 432x288 with 1 Axes>"
      ]
     },
     "metadata": {
      "needs_background": "light"
     },
     "output_type": "display_data"
    },
    {
     "name": "stdout",
     "output_type": "stream",
     "text": [
      "Modelo (Calidad vino): Coeficiente w1 = 0.36084176533503454 , Coeficiente w0 = 1.8749748869971525 . Error cuadratico medio = 0.5039840256714571\n"
     ]
    }
   ],
   "source": [
    "from sklearn import linear_model\n",
    "from sklearn.metrics import mean_squared_error\n",
    "\n",
    "#rm.reshape(-1, 1) cambia las dimensiones de rm, de tal manera que la segunda dimensión es 1. \n",
    "# el -1 indica a Python que recalcule la primera dimensión.\n",
    "# En resumen, tranforma el vector rm en una matriz de tamaño n*1.\n",
    "def use_sklearn():\n",
    "  modelo = linear_model.LinearRegression().fit(alcohol.reshape(-1, 1), calidad)\n",
    "\n",
    "  yp = modelo.predict(alcohol.reshape(-1, 1))\n",
    "\n",
    "  plt.plot(alcohol, yp, color=\"green\")\n",
    "  plt.scatter(alcohol, calidad, alpha=0.5)\n",
    "  plt.show()\n",
    "  \n",
    "  fit_intercept_error = mean_squared_error(calidad, yp)\n",
    "\n",
    "  print(\"Modelo (Calidad vino): Coeficiente w1 =\", modelo.coef_[0], \", Coeficiente w0 =\",\n",
    "        modelo.intercept_, \". Error cuadratico medio =\", fit_intercept_error)\n",
    "  \n",
    "use_sklearn()"
   ]
  },
  {
   "cell_type": "markdown",
   "metadata": {},
   "source": [
    "Si bien la relación aqui presentada entre la calidad del vino y el grado de alcohol no es perfecta. El siguiente modelo nos esta diciendo que hay una relación positiva entre el grado de alcohol y la calidad del vino. Es decir, manteniendo todo lo demas constante un aumento de una unidad en el grado de alcohol aumenta la calidad del vino en 0.36 unidades. De una manera mas simple, este modelo nos esta diciendo que los vinos que poseen un mayor grado de alcohol en general tienen mayor calidad que los que no."
   ]
  },
  {
   "cell_type": "markdown",
   "metadata": {},
   "source": [
    "## Conclusiones\n",
    "\n",
    "A lo largo de este ensayo pudimos identificar que es un modelo de regresión lineal, sus origenes, aspectos basicos, para que sirve y como lo podemos utilizar en la vida real.\n",
    "\n",
    "El modelo de regresión lineal es un algoritmo muy sencillo y poderoso que bien usado nos permite medir en una relación lineal (aproximación sencilla de la realidad) el comportamiento entre un conjunto de variables o caracteristicas y una variable objetivo. De este modo, podemos inferir y predecir el comportamiento de la variable objetivo a través del comportamiento de sus características."
   ]
  },
  {
   "cell_type": "markdown",
   "metadata": {},
   "source": [
    "## Bibliografía\n",
    "\n",
    "- [Regresión Lineal - Wikipedia](https://es.wikipedia.org/wiki/Regresi%C3%B3n_lineal)\n",
    "\n",
    "- [Machine Learning supervisado: Fundamentos de la Regresión Lineal - Medium](https://medium.com/datos-y-ciencia/machine-learning-supervisado-fundamentos-de-la-regresi%C3%B3n-lineal-bbcb07fe7fd)\n",
    "\n",
    "- [Wine Quality Data Set - UCI](https://archive.ics.uci.edu/ml/datasets/wine+quality)"
   ]
  }
 ],
 "metadata": {
  "kernelspec": {
   "display_name": "Python 3",
   "language": "python",
   "name": "python3"
  },
  "language_info": {
   "codemirror_mode": {
    "name": "ipython",
    "version": 3
   },
   "file_extension": ".py",
   "mimetype": "text/x-python",
   "name": "python",
   "nbconvert_exporter": "python",
   "pygments_lexer": "ipython3",
   "version": "3.8.5"
  }
 },
 "nbformat": 4,
 "nbformat_minor": 4
}
