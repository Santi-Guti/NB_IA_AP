{
 "cells": [
  {
   "cell_type": "markdown",
   "metadata": {},
   "source": [
    "> # **¿Qué es una CPU, GPU y una TPU?**"
   ]
  },
  {
   "cell_type": "markdown",
   "metadata": {},
   "source": [
    "Para el desarrollo del diplomado es importante entender estos conceptos y como incfluyen en el desarrollo de nuestros modelos, algoritmos o actividades a desarrollar."
   ]
  },
  {
   "cell_type": "markdown",
   "metadata": {},
   "source": [
    "## 1. ¿ Qué es una CPU?"
   ]
  },
  {
   "cell_type": "markdown",
   "metadata": {},
   "source": [
    "Una CPU es una Unidad Central de Procesamiento. Es el hardware dentro de un computador o cualquier otro dispositivo programable que se encarga de interpretar una serie de instrucciones de un programa informático a través de la realización de una serie de operaciones logícas y basicas aritmeticas."
   ]
  },
  {
   "cell_type": "markdown",
   "metadata": {},
   "source": [
    "Para mayor información revisar : \n",
    "\n",
    "Fuente - [Wikipedia - Unidad Central de Procesameinto (CPU)](https://es.wikipedia.org/wiki/Unidad_central_de_procesamiento)"
   ]
  },
  {
   "cell_type": "markdown",
   "metadata": {},
   "source": [
    "**Vista superior de una CPU Intel 80486DX2 en un paquete PGA de cerámica.**\n",
    "\n",
    "![CPU](https://upload.wikimedia.org/wikipedia/commons/thumb/d/dc/Intel_80486DX2_top.jpg/800px-Intel_80486DX2_top.jpg)"
   ]
  },
  {
   "cell_type": "markdown",
   "metadata": {},
   "source": [
    "## 2. ¿Qué es una GPU?"
   ]
  },
  {
   "cell_type": "markdown",
   "metadata": {},
   "source": [
    "Una GPU es una Unidad de Procesamiento gráfico. Es un coprocesador dedidado al processamiento de graficos que ayuda aligerar la carga de trabajo del procesador central (CPU) en aplicaciones como videojuegos o aplicaciones 3D interactivas. Asi la CPU se encarga a otra serie de operaciones logicas, calculos mecanicos y matemáticos, y la GPU se encarga de procesar los gráficos."
   ]
  },
  {
   "cell_type": "markdown",
   "metadata": {},
   "source": [
    "Para mayor información:\n",
    "\n",
    "Fuente - [Wikipedia - Unidad de Procesamiento Grafíco (GPU)](https://es.wikipedia.org/wiki/Unidad_de_procesamiento_gr%C3%A1fico)"
   ]
  },
  {
   "cell_type": "markdown",
   "metadata": {},
   "source": [
    "**Unidad de Procesamiento Grafíco (GPU)**\n",
    "\n",
    "![Unidad de Procesamiento Grafíco](https://upload.wikimedia.org/wikipedia/commons/thumb/4/44/6600GT_GPU.jpg/800px-6600GT_GPU.jpg)"
   ]
  },
  {
   "cell_type": "markdown",
   "metadata": {},
   "source": [
    "## ¿Qué es una TPU?"
   ]
  },
  {
   "cell_type": "markdown",
   "metadata": {},
   "source": [
    "Una TPU es una Unidad de Procesamiento Tensorial. Es un circuito integrado de aplicación específica y acelerador de IA (Inteligencia Artificial) desarrollado por Google para el aprendizaje automático con redes neuronales artificiales y más específicamente optimizado para usar TensorFlow la biblioteca de código abierto para aprendizaje automático.Procesan mayor volumen de datos que una GPU."
   ]
  },
  {
   "cell_type": "markdown",
   "metadata": {},
   "source": [
    "Para mayor información:\n",
    "\n",
    "Fuente - [Wikipedia - Unidad de Procesamiento Tensorial (TPU)](https://es.wikipedia.org/wiki/Unidad_de_procesamiento_tensorial)"
   ]
  },
  {
   "cell_type": "markdown",
   "metadata": {},
   "source": [
    "**Unidad de Procesamiento Tensorial (TPU).** \n",
    "\n",
    " ![Unidad de Procesamiento Tensorial](https://cloud.google.com/images/products/tpu/google-cloud-ai.png?hl=es-419)"
   ]
  },
  {
   "cell_type": "code",
   "execution_count": null,
   "metadata": {},
   "outputs": [],
   "source": []
  }
 ],
 "metadata": {
  "kernelspec": {
   "display_name": "Python 3",
   "language": "python",
   "name": "python3"
  },
  "language_info": {
   "codemirror_mode": {
    "name": "ipython",
    "version": 3
   },
   "file_extension": ".py",
   "mimetype": "text/x-python",
   "name": "python",
   "nbconvert_exporter": "python",
   "pygments_lexer": "ipython3",
   "version": "3.8.5"
  }
 },
 "nbformat": 4,
 "nbformat_minor": 4
}
