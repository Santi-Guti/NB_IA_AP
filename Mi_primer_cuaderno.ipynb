{
  "nbformat": 4,
  "nbformat_minor": 0,
  "metadata": {
    "colab": {
      "name": "Mi_primer_cuaderno.ipynb",
      "provenance": [],
      "toc_visible": true
    },
    "kernelspec": {
      "name": "python3",
      "display_name": "Python 3"
    }
  },
  "cells": [
    {
      "cell_type": "markdown",
      "metadata": {
        "id": "sbmLu_nKdikx"
      },
      "source": [
        "#Regresión Lineal\n"
      ]
    },
    {
      "cell_type": "markdown",
      "metadata": {
        "id": "RD1vESJGjr3z"
      },
      "source": [
        "## ¿Qué es una regresión lineal?\n",
        "\n",
        "Una regresión lineal es un modelo estadístico y matemático que permite medir la relación entre una variable dependiente (endogena) a traves de una o mas variables independientes (exogenas).\n",
        "\n",
        "$$y=b_0 + b_1x$$\n",
        "\n",
        "[Regresión lineal](https://es.wikipedia.org/wiki/Regresi%C3%B3n_lineal)\n",
        "\n",
        "[Como aprender markdown](https://www.markdownguide.org/basic-syntax)\n",
        "\n",
        "![Regresión Lineal](https://content.gnoss.ws/imagenes/Usuarios/ImagenesCKEditor/c513da9b-6419-42be-82ef-3c448a0b5a79/36c7bc05-5bc1-4266-9e1e-ee5f6ba6c312.png)\n",
        "\n",
        "*Santiago Gutiérrez Hernández*"
      ]
    },
    {
      "cell_type": "markdown",
      "metadata": {
        "id": "5Z54v4Uflvd_"
      },
      "source": [
        "#Lenguaje LaTeX"
      ]
    },
    {
      "cell_type": "markdown",
      "metadata": {
        "id": "_tunmct9eNwm"
      },
      "source": [
        "El lenguaje **LaTeX** se usa para colocar ecuaciones matemáticas de forma profesional...\n",
        "\n",
        "es el lenguaje estandar usado por la mayoría de lso científicos en el mundo.\n",
        "\n",
        "$$y=x^2$$\n",
        "\n",
        "$$\\frac{dC}{dt} = kC$$"
      ]
    },
    {
      "cell_type": "code",
      "metadata": {
        "colab": {
          "base_uri": "https://localhost:8080/"
        },
        "id": "sWFGWgx0nvu0",
        "outputId": "5514e76b-5c9f-4209-9027-5f3f5f8ea8a2"
      },
      "source": [
        "print(\"Hello friend...Hello friend?\")\n"
      ],
      "execution_count": 8,
      "outputs": [
        {
          "output_type": "stream",
          "text": [
            "Hello friend...Hello friend?\n"
          ],
          "name": "stdout"
        }
      ]
    },
    {
      "cell_type": "code",
      "metadata": {
        "id": "lXTpm98hoiOB"
      },
      "source": [
        ""
      ],
      "execution_count": null,
      "outputs": []
    }
  ]
}