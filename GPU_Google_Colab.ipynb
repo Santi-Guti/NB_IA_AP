{
  "nbformat": 4,
  "nbformat_minor": 0,
  "metadata": {
    "colab": {
      "name": "GPU_Google Colab.ipynb",
      "provenance": [],
      "authorship_tag": "ABX9TyMteYEfGwtEiN8F6XyWACzY",
      "include_colab_link": true
    },
    "kernelspec": {
      "name": "python3",
      "display_name": "Python 3"
    },
    "accelerator": "GPU"
  },
  "cells": [
    {
      "cell_type": "markdown",
      "metadata": {
        "id": "view-in-github",
        "colab_type": "text"
      },
      "source": [
        "<a href=\"https://colab.research.google.com/github/Santi-Guti/NB_IA_AP/blob/main/GPU_Google_Colab.ipynb\" target=\"_parent\"><img src=\"https://colab.research.google.com/assets/colab-badge.svg\" alt=\"Open In Colab\"/></a>"
      ]
    },
    {
      "cell_type": "markdown",
      "metadata": {
        "id": "EPHF1fZzng6G"
      },
      "source": [
        "> # **1.Lectura de datos**"
      ]
    },
    {
      "cell_type": "markdown",
      "metadata": {
        "id": "M4lLyCninpu5"
      },
      "source": [
        "## Lectura del set de datos (almacenado en Google Drive)"
      ]
    },
    {
      "cell_type": "code",
      "metadata": {
        "id": "O_XhPMUInwAN"
      },
      "source": [
        "import numpy as np\n",
        "import os\n",
        "import gzip\n",
        "\n",
        "def load_mnist(ruta, tipo='train'):\n",
        "\n",
        "    ruta_categorias = os.path.join(ruta, '%s-labels-idx1-ubyte.gz' % tipo)\n",
        "    ruta_imagenes = os.path.join(ruta, '%s-images-idx3-ubyte.gz' % tipo)\n",
        "    \n",
        "    with gzip.open(ruta_categorias, 'rb') as rut_cat:\n",
        "        etiquetas = np.frombuffer(rut_cat.read(), dtype=np.uint8, offset=8)\n",
        "\n",
        "    with gzip.open(ruta_imagenes, 'rb') as rut_imgs:\n",
        "        imagenes = np.frombuffer(rut_imgs.read(), dtype=np.uint8, offset=16).reshape(len(etiquetas), 784)\n",
        "\n",
        "    return imagenes, etiquetas"
      ],
      "execution_count": 1,
      "outputs": []
    },
    {
      "cell_type": "markdown",
      "metadata": {
        "id": "VQQvQCw3qMCc"
      },
      "source": [
        "## Acceso a datos almacenados en Google Drive"
      ]
    },
    {
      "cell_type": "code",
      "metadata": {
        "colab": {
          "base_uri": "https://localhost:8080/"
        },
        "id": "fJ4yUnYYqS5y",
        "outputId": "9ce6be97-3b93-4542-9bf8-3d02412641e8"
      },
      "source": [
        "from google.colab import drive\n",
        "drive.mount('/content/gdrive')\n",
        "\n",
        "ruta = '/content/gdrive/MyDrive/Colab Notebooks/fashion_mnist_data'\n",
        "\n",
        "X_train, Y_train = load_mnist(ruta, tipo='train')\n",
        "X_test, Y_test = load_mnist(ruta, tipo='test')"
      ],
      "execution_count": 2,
      "outputs": [
        {
          "output_type": "stream",
          "text": [
            "Mounted at /content/gdrive\n"
          ],
          "name": "stdout"
        }
      ]
    },
    {
      "cell_type": "markdown",
      "metadata": {
        "id": "WhVc4_b2rBfN"
      },
      "source": [
        "## $Reshape$ de lso datos para garantizar que sean matrices (no vectores)"
      ]
    },
    {
      "cell_type": "code",
      "metadata": {
        "id": "mRF7lih-rMZ9"
      },
      "source": [
        "X_train = X_train[0:59904,:]\n",
        "X_test = X_test[0:9984,:]\n",
        "Y_train = Y_train[0:59904]\n",
        "Y_test = Y_test[0:9984]\n",
        "\n",
        "X_train = np.reshape(X_train,(59904,28,28,1))\n",
        "X_test = np.reshape(X_test,(9984,28,28,1))"
      ],
      "execution_count": 3,
      "outputs": []
    },
    {
      "cell_type": "markdown",
      "metadata": {
        "id": "snBQG0O-r-7u"
      },
      "source": [
        "> # **2.Creación del modelo con TensorFlow + Keras**"
      ]
    },
    {
      "cell_type": "code",
      "metadata": {
        "colab": {
          "base_uri": "https://localhost:8080/"
        },
        "id": "5dTZYAK5sIPo",
        "outputId": "ac416ec6-cb64-4664-bbe1-75c5454a2f35"
      },
      "source": [
        "%tensorflow_version 2.x   # Para garantizar que la versión 2.x sea importada\n",
        "import tensorflow as tf\n",
        "print('Versión de TensorFlow: ' + tf.__version__)\n",
        "\n",
        "tf.random.set_seed(200)\n",
        "model = tf.keras.models.Sequential()\n",
        "model.add(tf.keras.layers.BatchNormalization(input_shape=X_train.shape[1:]))\n",
        "model.add(tf.keras.layers.Conv2D(64, (5, 5), padding='same', activation='elu'))\n",
        "model.add(tf.keras.layers.MaxPooling2D(pool_size=(2, 2), strides=(2,2)))\n",
        "model.add(tf.keras.layers.Dropout(0.25))\n",
        "\n",
        "model.add(tf.keras.layers.BatchNormalization(input_shape=X_train.shape[1:]))\n",
        "model.add(tf.keras.layers.Conv2D(128, (5, 5), padding='same', activation='elu'))\n",
        "model.add(tf.keras.layers.MaxPooling2D(pool_size=(2, 2)))\n",
        "model.add(tf.keras.layers.Dropout(0.25))\n",
        "\n",
        "model.add(tf.keras.layers.BatchNormalization(input_shape=X_train.shape[1:]))\n",
        "model.add(tf.keras.layers.Conv2D(256, (5, 5), padding='same', activation='elu'))\n",
        "model.add(tf.keras.layers.MaxPooling2D(pool_size=(2, 2), strides=(2,2)))\n",
        "model.add(tf.keras.layers.Dropout(0.25))\n",
        "\n",
        "model.add(tf.keras.layers.Flatten())\n",
        "model.add(tf.keras.layers.Dense(256))\n",
        "model.add(tf.keras.layers.Activation('elu'))\n",
        "model.add(tf.keras.layers.Dropout(0.5))\n",
        "model.add(tf.keras.layers.Dense(10))\n",
        "model.add(tf.keras.layers.Activation('softmax'))\n",
        "model.summary()\n",
        "\n",
        "model.compile(optimizer='adam',loss='sparse_categorical_crossentropy',metrics=['accuracy'])"
      ],
      "execution_count": 4,
      "outputs": [
        {
          "output_type": "stream",
          "text": [
            "`%tensorflow_version` only switches the major version: 1.x or 2.x.\n",
            "You set: `2.x   # Para garantizar que la versión 2.x sea importada`. This will be interpreted as: `2.x`.\n",
            "\n",
            "\n",
            "TensorFlow 2.x selected.\n",
            "Versión de TensorFlow: 2.4.1\n",
            "Model: \"sequential\"\n",
            "_________________________________________________________________\n",
            "Layer (type)                 Output Shape              Param #   \n",
            "=================================================================\n",
            "batch_normalization (BatchNo (None, 28, 28, 1)         4         \n",
            "_________________________________________________________________\n",
            "conv2d (Conv2D)              (None, 28, 28, 64)        1664      \n",
            "_________________________________________________________________\n",
            "max_pooling2d (MaxPooling2D) (None, 14, 14, 64)        0         \n",
            "_________________________________________________________________\n",
            "dropout (Dropout)            (None, 14, 14, 64)        0         \n",
            "_________________________________________________________________\n",
            "batch_normalization_1 (Batch (None, 14, 14, 64)        256       \n",
            "_________________________________________________________________\n",
            "conv2d_1 (Conv2D)            (None, 14, 14, 128)       204928    \n",
            "_________________________________________________________________\n",
            "max_pooling2d_1 (MaxPooling2 (None, 7, 7, 128)         0         \n",
            "_________________________________________________________________\n",
            "dropout_1 (Dropout)          (None, 7, 7, 128)         0         \n",
            "_________________________________________________________________\n",
            "batch_normalization_2 (Batch (None, 7, 7, 128)         512       \n",
            "_________________________________________________________________\n",
            "conv2d_2 (Conv2D)            (None, 7, 7, 256)         819456    \n",
            "_________________________________________________________________\n",
            "max_pooling2d_2 (MaxPooling2 (None, 3, 3, 256)         0         \n",
            "_________________________________________________________________\n",
            "dropout_2 (Dropout)          (None, 3, 3, 256)         0         \n",
            "_________________________________________________________________\n",
            "flatten (Flatten)            (None, 2304)              0         \n",
            "_________________________________________________________________\n",
            "dense (Dense)                (None, 256)               590080    \n",
            "_________________________________________________________________\n",
            "activation (Activation)      (None, 256)               0         \n",
            "_________________________________________________________________\n",
            "dropout_3 (Dropout)          (None, 256)               0         \n",
            "_________________________________________________________________\n",
            "dense_1 (Dense)              (None, 10)                2570      \n",
            "_________________________________________________________________\n",
            "activation_1 (Activation)    (None, 10)                0         \n",
            "=================================================================\n",
            "Total params: 1,619,470\n",
            "Trainable params: 1,619,084\n",
            "Non-trainable params: 386\n",
            "_________________________________________________________________\n"
          ],
          "name": "stdout"
        }
      ]
    },
    {
      "cell_type": "markdown",
      "metadata": {
        "id": "sSoMT58psvnv"
      },
      "source": [
        "> # **3.Enrenamiento con GPU**"
      ]
    },
    {
      "cell_type": "markdown",
      "metadata": {
        "id": "OAB_XMOAs31_"
      },
      "source": [
        "## Verificar la disponibilidad de GPU"
      ]
    },
    {
      "cell_type": "code",
      "metadata": {
        "colab": {
          "base_uri": "https://localhost:8080/"
        },
        "id": "um-hxMu0s1gz",
        "outputId": "c671fe48-94ba-417e-f4bd-7b913ad3707f"
      },
      "source": [
        "nombre_gpu = tf.test.gpu_device_name()\n",
        "if nombre_gpu != '/device:GPU:0':\n",
        "  raise SystemError('GPU no encontrada')\n",
        "print('GPU encontrada: {}'.format(nombre_gpu))"
      ],
      "execution_count": 5,
      "outputs": [
        {
          "output_type": "stream",
          "text": [
            "GPU encontrada: /device:GPU:0\n"
          ],
          "name": "stdout"
        }
      ]
    },
    {
      "cell_type": "code",
      "metadata": {
        "colab": {
          "base_uri": "https://localhost:8080/"
        },
        "id": "_E3DVOzFtgc8",
        "outputId": "fbc90997-8ed1-4074-aee9-3f25a5596e92"
      },
      "source": [
        "import timeit\n",
        "\n",
        "def entrenamiento_gpu():\n",
        "  with tf.device('/device:GPU:0'):\n",
        "    model.fit(X_train,Y_train,validation_data=(X_test,Y_test),batch_size=128,epochs=2,verbose=1)\n",
        "  \n",
        "  return None\n",
        "\n",
        "gpu_time = timeit.timeit('entrenamiento_gpu()', number=1, setup='from __main__ import entrenamiento_gpu')"
      ],
      "execution_count": 6,
      "outputs": [
        {
          "output_type": "stream",
          "text": [
            "Epoch 1/2\n",
            "468/468 [==============================] - 49s 41ms/step - loss: 1.0132 - accuracy: 0.7095 - val_loss: 0.3698 - val_accuracy: 0.8688\n",
            "Epoch 2/2\n",
            "468/468 [==============================] - 19s 40ms/step - loss: 0.4101 - accuracy: 0.8565 - val_loss: 0.3356 - val_accuracy: 0.8868\n"
          ],
          "name": "stdout"
        }
      ]
    },
    {
      "cell_type": "code",
      "metadata": {
        "colab": {
          "base_uri": "https://localhost:8080/"
        },
        "id": "KigVq3Iu0mj9",
        "outputId": "38c6846d-c9f2-43ce-f1dc-a71c35d98034"
      },
      "source": [
        "print('Tiempo de entrenamiento: ' + str(gpu_time) + ' segundos')"
      ],
      "execution_count": null,
      "outputs": [
        {
          "output_type": "stream",
          "text": [
            "Tiempo de entrenamiento: 1473.7212598519998 segundos\n"
          ],
          "name": "stdout"
        }
      ]
    }
  ]
}